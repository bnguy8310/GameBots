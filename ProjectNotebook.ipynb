{
 "cells": [
  {
   "cell_type": "markdown",
   "metadata": {},
   "source": [
    "# GameBots Description"
   ]
  },
  {
   "cell_type": "markdown",
   "metadata": {},
   "source": [
    "This project primarily focuses on a Bot that simulates a Hang Man game using styles of a chatbot in the form of a class. There is also an initial GameBot class that can be the base of several other games. I was inspired by the idea to make a chatbot related project from my class at UCSD COGS18 Introduction to Python class in Assignment 3. As a result, I started from scratch and went on this route to create a Hang Man game because I believed that it would challenge and prove my progress in Python. Also, this is a game which I enjoyed playing when I was young. The HangMan bot that I have written is simple and basic, which could definitely be improved in the future with more experience. \n",
    "***\n",
    "****A description of the code each step of the way:**** <br>\n",
    "At first I decided to make to make the class GameBots() to be the foundation and the set up for potential games. It has two attributes that holds the number of wins and losses. It also has a method where it prints the number of wins and losses when called. \n",
    "\n",
    "I then went through and decided to make the `HangMan()` class that takes the instances of GameBots. After that, I made the method to start the game which is `HangMan().start()` which resembles a start button in a menu. The whole bot is a in the form of a `while` loop. I started with an outline of the most basic chatbot where it starts by saying asking the user's name and breaks after saying \"Hello (user's name)\". Following that, I defined functions to be the components of the HangMan game. I used my knowledge of arrays and tables to create a function that picks random words from a list of words based on the difficulty the user picks. Next, I formed the hangman stick figure to be represented by strings in brackets, lines, and slashes. I also added code after every input to break the loop and quit the game if the user ever inputs \"quit\". Finally, I attached everything in order to form the Hang Man game.\n",
    "   "
   ]
  },
  {
   "cell_type": "markdown",
   "metadata": {},
   "source": [
    "## HangMan Code\n",
    "\n",
    "Below is an example of one game playing the HangMan bot."
   ]
  },
  {
   "cell_type": "code",
   "execution_count": 1,
   "metadata": {},
   "outputs": [],
   "source": [
    "from my_module.functions_classes import *"
   ]
  },
  {
   "cell_type": "code",
   "execution_count": 2,
   "metadata": {},
   "outputs": [
    {
     "name": "stdout",
     "output_type": "stream",
     "text": [
      "The game is going to start, you may quit anytime you want by inputting 'quit'.\n",
      "Thank you for choosing HangMan! What is your name?\n",
      "Enter Name: Bryan\n",
      "Hello Bryan!\n",
      "Now, what difficulty would you like Bryan?\n",
      "Easy, Medium, Hard: medium\n",
      "Please give me a few moments to start the game...\n",
      "Grabbing necessary functions...\n",
      "Picking a random word...\n",
      "Almost done !\n",
      "Starting now !\n",
      "----------------------------------------------------------------\n",
      "[             ]\n",
      "[             ]\n",
      "[             ]\n",
      "[             ]\n",
      "You have 7 tries left!\n",
      "_____\n",
      "Letters used:  []\n",
      "What is your guess?: a\n",
      "Uh oh, try again\n",
      "[      |      ]\n",
      "[             ]\n",
      "[             ]\n",
      "[             ]\n",
      "You have 6 tries left!\n",
      "_____\n",
      "Letters used:  ['a']\n",
      "What is your guess?: e\n",
      "Uh oh, try again\n",
      "[      |      ]\n",
      "[      o      ]\n",
      "[             ]\n",
      "[             ]\n",
      "You have 5 tries left!\n",
      "_____\n",
      "Letters used:  ['a', 'e']\n",
      "What is your guess?: i\n",
      "Correct !\n",
      "[      |      ]\n",
      "[      o      ]\n",
      "[             ]\n",
      "[             ]\n",
      "You have 5 tries left!\n",
      "_i___\n",
      "Letters used:  ['a', 'e', 'i']\n",
      "What is your guess?: o\n",
      "Uh oh, try again\n",
      "[      |      ]\n",
      "[      o      ]\n",
      "[      |      ]\n",
      "[             ]\n",
      "You have 4 tries left!\n",
      "_i___\n",
      "Letters used:  ['a', 'e', 'i', 'o']\n",
      "What is your guess?: u\n",
      "Uh oh, try again\n",
      "[      |      ]\n",
      "[      o      ]\n",
      "[     /|      ]\n",
      "[             ]\n",
      "You have 3 tries left!\n",
      "_i___\n",
      "Letters used:  ['a', 'e', 'i', 'o', 'u']\n",
      "What is your guess?: s\n",
      "Uh oh, try again\n",
      "[      |      ]\n",
      "[      o      ]\n",
      "[     /|\\     ]\n",
      "[             ]\n",
      "You have 2 tries left!\n",
      "_i___\n",
      "Letters used:  ['a', 'e', 'i', 'o', 'u', 's']\n",
      "What is your guess?: t\n",
      "Uh oh, try again\n",
      "[      |      ]\n",
      "[      o      ]\n",
      "[     /|\\     ]\n",
      "[     /       ]\n",
      "You have 1 tries left!\n",
      "_i___\n",
      "Letters used:  ['a', 'e', 'i', 'o', 'u', 's', 't']\n",
      "What is your guess?: r\n",
      "Uh oh, try again\n",
      "[      |      ]\n",
      "[      o      ]\n",
      "[     /|\\     ]\n",
      "[     / \\     ]\n",
      "You have 0 tries left!\n",
      "You have lost this game\n",
      "The word was zippy\n",
      "----------------------------------------------------------------\n",
      "You have won 0 times in this game!\n",
      "You also have lost 1 times in this game D:\n",
      "Thank you for playing me! Have a nice day!\n"
     ]
    }
   ],
   "source": [
    "#assign the game bot to a variable and start the game\n",
    "hangman = HangMan()\n",
    "hangman.start()"
   ]
  }
 ],
 "metadata": {
  "kernelspec": {
   "display_name": "Python 3",
   "language": "python",
   "name": "python3"
  },
  "language_info": {
   "codemirror_mode": {
    "name": "ipython",
    "version": 3
   },
   "file_extension": ".py",
   "mimetype": "text/x-python",
   "name": "python",
   "nbconvert_exporter": "python",
   "pygments_lexer": "ipython3",
   "version": "3.7.1"
  }
 },
 "nbformat": 4,
 "nbformat_minor": 2
}
